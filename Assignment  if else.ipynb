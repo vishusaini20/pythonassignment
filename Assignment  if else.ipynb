{
 "cells": [
  {
   "cell_type": "markdown",
   "id": "fff6f897-1f50-4382-9a60-a31f14598e9c",
   "metadata": {},
   "source": [
    "Q1. Write a program to calculate the electricity bill\n",
    "using only if statement? (accept number of unit from user)\n",
    "according to the following criteria:\n",
    "\n",
    "Unit                  Price\n",
    "First 100 units      no charge\n",
    "Next 100 units       Rs 5 per unit\n",
    "After 200 units      Rs 10 per unit\n",
    "(For example, if input unit is 350 than total bill amount is Rs2000). Lets explain...\n",
    "For first 100 no charges\n",
    "Now you have 250 unit remaining\n",
    "100-200 you need to pay – 100*5 = 500\n",
    "Now 200-100 you need to pay 150*10 = 1500\n",
    "Total = 500+1500 = 2000"
   ]
  },
  {
   "cell_type": "code",
   "execution_count": 1,
   "id": "dff7dcd9-daa6-49f2-a3f5-9546c7604204",
   "metadata": {},
   "outputs": [
    {
     "name": "stdin",
     "output_type": "stream",
     "text": [
      "Enter number of units consumed: 450\n"
     ]
    },
    {
     "name": "stdout",
     "output_type": "stream",
     "text": [
      "Total Electricity Bill: Rs 3000\n"
     ]
    }
   ],
   "source": [
    "units = int(input(\"Enter number of units consumed:\"))\n",
    "\n",
    "bill = 0\n",
    "\n",
    "if units > 200:\n",
    "    bill += (units - 200) * 10\n",
    "    units = 200\n",
    "    \n",
    "if units > 100:\n",
    "    bill += (units - 100) * 5\n",
    "    units = 100\n",
    "    \n",
    "if units <= 100:\n",
    "    bill += 0\n",
    "\n",
    "print(\"Total Electricity Bill: Rs\",bill)\n",
    "    "
   ]
  },
  {
   "cell_type": "markdown",
   "id": "5e934382-1c50-4e7a-91f1-7521dcad4a0a",
   "metadata": {},
   "source": [
    "Q2. Write a program to accept percentage from the user and display\n",
    "the grade according to the following criteria:\n",
    "\n",
    "Marks              Grade\n",
    "> 90                 A\n",
    "> 80 and <= 90       B\n",
    ">= 60 and <= 80      C\n",
    "below 60             D"
   ]
  },
  {
   "cell_type": "code",
   "execution_count": 2,
   "id": "b14e8018-d2c8-4cbc-8742-247522ac2719",
   "metadata": {},
   "outputs": [
    {
     "name": "stdin",
     "output_type": "stream",
     "text": [
      "Enter your percentage:  65\n"
     ]
    },
    {
     "name": "stdout",
     "output_type": "stream",
     "text": [
      "Grade: C\n"
     ]
    }
   ],
   "source": [
    "percentage = float(input(\"Enter your percentage: \"))\n",
    "\n",
    "if percentage > 90:\n",
    "    print(\"Grade: A\")\n",
    "    \n",
    "if percentage > 80 and percentage <= 90:\n",
    "    print(\"Grade: B\")\n",
    "    \n",
    "if percentage >= 60 and percentage <=80:\n",
    "    print(\"Grade: C\")\n",
    "    \n",
    "if percentage < 60:\n",
    "    print(\"Grade:D\")"
   ]
  },
  {
   "cell_type": "markdown",
   "id": "c12a798f-7374-4950-9310-d3256a87e8e1",
   "metadata": {},
   "source": [
    "Q3. Accept the age of 4 people and display the youngest one?"
   ]
  },
  {
   "cell_type": "code",
   "execution_count": 3,
   "id": "8477c3a5-ca98-407b-9991-b1a535543c79",
   "metadata": {},
   "outputs": [
    {
     "name": "stdin",
     "output_type": "stream",
     "text": [
      "Enter age of person 1:  45\n",
      "Enter age of person 2:  24\n",
      "Enter age of person 3:  43\n",
      "Enter age of person 4:  15\n"
     ]
    },
    {
     "name": "stdout",
     "output_type": "stream",
     "text": [
      "The youngest age is:  15\n"
     ]
    }
   ],
   "source": [
    "age1 = int(input(\"Enter age of person 1: \"))\n",
    "age2 = int(input(\"Enter age of person 2: \"))\n",
    "age3 = int(input(\"Enter age of person 3: \"))\n",
    "age4 = int(input(\"Enter age of person 4: \"))\n",
    "\n",
    "youngest = age1\n",
    "\n",
    "if age2 < youngest:\n",
    "    youngest = age2\n",
    "\n",
    "if age3 < youngest:\n",
    "    youngest = age3\n",
    "\n",
    "if age4 < youngest:\n",
    "    youngest = age4\n",
    "\n",
    "print(\"The youngest age is: \",youngest)    \n"
   ]
  },
  {
   "cell_type": "code",
   "execution_count": null,
   "id": "1f8dfeb5-4d85-40e5-b7f2-ee699eb00c7d",
   "metadata": {},
   "outputs": [],
   "source": [
    "Q4. A company decided to give bonus to employee\n",
    "according to following criteria:\n",
    "\n",
    "Time period of Service Bonus\n",
    "\n",
    "More than 10 years 10%\n",
    "\n",
    ">=6 and <=10 8%\n",
    "\n",
    "Less than 6 years 5%\n",
    "\n",
    "Ask user for their salary and years of service and print the\n",
    "net bonus amount?"
   ]
  },
  {
   "cell_type": "code",
   "execution_count": 4,
   "id": "c41d5953-e409-4f37-b01b-d03352d2ae8a",
   "metadata": {},
   "outputs": [
    {
     "name": "stdin",
     "output_type": "stream",
     "text": [
      "Enter your salary: 5489974\n",
      "Enter your years of service: 2\n"
     ]
    },
    {
     "name": "stdout",
     "output_type": "stream",
     "text": [
      "Your bonus amount is: Rs 274498.7\n"
     ]
    }
   ],
   "source": [
    "salary = float(input(\"Enter your salary:\"))\n",
    "years = float(input(\"Enter your years of service:\"))\n",
    "\n",
    "bonus = 0\n",
    "\n",
    "if years > 10:\n",
    "    bonus = salary * 0.10\n",
    "\n",
    "if years >= 6 and years <= 10:\n",
    "    bonus = salary * 0.08\n",
    "\n",
    "if years < 6:\n",
    "    bonus = salary * 0.05\n",
    "\n",
    "print(\"Your bonus amount is: Rs\",bonus)"
   ]
  },
  {
   "cell_type": "markdown",
   "id": "10e78a9e-ea93-48ff-8a2f-7cbc838b8e89",
   "metadata": {},
   "source": [
    "Q5. Accept three numbers from the user and display the second largest number?"
   ]
  },
  {
   "cell_type": "code",
   "execution_count": 5,
   "id": "d0f05279-2aca-4230-9967-5c2f47d6762f",
   "metadata": {},
   "outputs": [
    {
     "name": "stdin",
     "output_type": "stream",
     "text": [
      "Enter first number:  56\n",
      "Enter second number:  85\n",
      "Enter third number:  45\n"
     ]
    },
    {
     "name": "stdout",
     "output_type": "stream",
     "text": [
      "The second largest number is: 56\n"
     ]
    }
   ],
   "source": [
    "a = int(input(\"Enter first number: \"))\n",
    "b = int(input(\"Enter second number: \"))\n",
    "c = int(input(\"Enter third number: \"))\n",
    "\n",
    "if(a > b and a < c) or (a > c and a < b):\n",
    "    second_largest = a \n",
    "\n",
    "if (b > a and b < c) or (b > c and b < a):\n",
    "    second_largest = b\n",
    "\n",
    "if (c > a and c < b) or (c > b and c < a):  \n",
    "    second_largest = c\n",
    "\n",
    "if a == b or b == c or a == c:\n",
    "    if a == b and b == c:\n",
    "        print(\"All numbers are equal.\")\n",
    "    else: \n",
    "        print(\"Cannot determine second largest uniquely due to equal values.\")\n",
    "else:\n",
    "    print(\"The second largest number is:\",second_largest)"
   ]
  },
  {
   "cell_type": "markdown",
   "id": "594bcaff-b77a-4b7b-ace4-ad04f0cabf75",
   "metadata": {},
   "source": [
    "Q6. Accept the marked price from the user and calculate\n",
    "the Net amount as (Marked Price – Discount) to pay\n",
    "according to following criteria:\n",
    "\n",
    "Marked Price          Discount\n",
    ">10000                  20%\n",
    ">7000 and <=10000       15%\n",
    "<=7000                  10%"
   ]
  },
  {
   "cell_type": "code",
   "execution_count": 8,
   "id": "e68aca9f-5b38-4bf9-abd9-6958cc9f993c",
   "metadata": {},
   "outputs": [
    {
     "name": "stdin",
     "output_type": "stream",
     "text": [
      "Enter the marked price: 4555\n"
     ]
    },
    {
     "name": "stdout",
     "output_type": "stream",
     "text": [
      "Discount: Rs 455.5\n",
      "Net Amount to pay: Rs 4099.5\n"
     ]
    }
   ],
   "source": [
    "marked_price = float(input(\"Enter the marked price:\"))\n",
    "\n",
    "discount = 0\n",
    "\n",
    "if marked_price > 10000:\n",
    "    discount = marked_price * 0.20\n",
    "\n",
    "if marked_price > 7000 and marked_price <= 10000:\n",
    "    discount = marked_price * 0.15\n",
    "\n",
    "if marked_price <= 7000:\n",
    "    discount = marked_price * 0.10\n",
    "\n",
    "net_amount = marked_price - discount\n",
    "\n",
    "print(\"Discount: Rs\", discount)\n",
    "print(\"Net Amount to pay: Rs\",net_amount)"
   ]
  },
  {
   "cell_type": "markdown",
   "id": "79a47b31-9d72-407d-a7f3-ba5a1114d6bd",
   "metadata": {},
   "source": [
    "Q7. Accept the marks of English, Math and Science,\n",
    "Social Studies Subject and display the stream allotted\n",
    "according to following:\n",
    "\n",
    "All Subjects more than 80 marks — Science Stream\n",
    "\n",
    "English >80 and Math, Science above 50 — Commerce Stream\n",
    "\n",
    "English > 80 and social studies > 80 — Humanities"
   ]
  },
  {
   "cell_type": "code",
   "execution_count": 1,
   "id": "5d6e1fb4-1387-46e5-921c-7441c6540edd",
   "metadata": {},
   "outputs": [
    {
     "name": "stdin",
     "output_type": "stream",
     "text": [
      "Enter marks in English:  58\n",
      "Enter marks in Math:  45\n",
      "Enter marks in Science:  78\n",
      "Enter marks in Social Studies:  96\n"
     ]
    },
    {
     "name": "stdout",
     "output_type": "stream",
     "text": [
      "No specific stream allotted\n"
     ]
    }
   ],
   "source": [
    "english = int(input(\"Enter marks in English: \"))\n",
    "math = int(input(\"Enter marks in Math: \"))\n",
    "science = int(input(\"Enter marks in Science: \"))\n",
    "social_studies = int(input(\"Enter marks in Social Studies: \"))\n",
    "\n",
    "if english > 80 and math > 80 and science > 80 and social_studies > 80:\n",
    "    print(\"Stream Allotted: Science Stream\")\n",
    "    \n",
    "elif english > 80 and math > 50 and science > 50:\n",
    "    print(\"Stream Allotted: Commerce Stream\")\n",
    "    \n",
    "elif english > 80 and social_studies > 80:\n",
    "    print(\"Stream Allotted: Humanities\")\n",
    "    \n",
    "else:\n",
    "    print(\"No specific stream allotted\")\n",
    "    "
   ]
  },
  {
   "cell_type": "markdown",
   "id": "a911a4c4-b800-4539-b7c4-b0c94006dd87",
   "metadata": {},
   "source": [
    "Q8. Write a program to display \"Hello\" if a number entered\n",
    "by user is a multiple of five, otherwise print \"Bye\"?"
   ]
  },
  {
   "cell_type": "code",
   "execution_count": 3,
   "id": "e4fbc3bb-6cd8-4da9-8c9f-1c765d89ba34",
   "metadata": {},
   "outputs": [
    {
     "name": "stdin",
     "output_type": "stream",
     "text": [
      "Enter a number: 8\n"
     ]
    },
    {
     "name": "stdout",
     "output_type": "stream",
     "text": [
      "Bye\n"
     ]
    }
   ],
   "source": [
    "num = int(input(\"Enter a number:\"))\n",
    "\n",
    "if num % 5 == 0:\n",
    "    print(\"Hello\")\n",
    "else:\n",
    "    print(\"Bye\")"
   ]
  },
  {
   "cell_type": "markdown",
   "id": "01b7d84e-1733-4f6b-ba0f-3c1869fa1896",
   "metadata": {},
   "source": [
    "Q9. Write a program to check whether the last digit of a number (entered by user) is divisible by 3 or not?"
   ]
  },
  {
   "cell_type": "code",
   "execution_count": 5,
   "id": "baf17eeb-7b1c-4f9a-911d-cea1c5f4ad1c",
   "metadata": {},
   "outputs": [
    {
     "name": "stdin",
     "output_type": "stream",
     "text": [
      "Enter a number:  90\n"
     ]
    },
    {
     "name": "stdout",
     "output_type": "stream",
     "text": [
      "The last digit is divisible by 3.\n"
     ]
    }
   ],
   "source": [
    "num = int(input(\"Enter a number: \"))\n",
    "\n",
    "last_digit = num % 10\n",
    "\n",
    "if last_digit % 3 == 0:\n",
    "    print(\"The last digit is divisible by 3.\")\n",
    "\n",
    "else:\n",
    "    print(\"The last digit is not divisible by 3.\")"
   ]
  },
  {
   "cell_type": "markdown",
   "id": "ac5d51b7-2d73-40ae-b420-4741b35a258a",
   "metadata": {},
   "source": [
    "Q10. Write a program to check whether a number entered\n",
    "is three-digit number or not?"
   ]
  },
  {
   "cell_type": "code",
   "execution_count": 7,
   "id": "707f8890-63cf-4684-b6ac-3415cb5c7cb9",
   "metadata": {},
   "outputs": [
    {
     "name": "stdin",
     "output_type": "stream",
     "text": [
      "Enter a number:  -888\n"
     ]
    },
    {
     "name": "stdout",
     "output_type": "stream",
     "text": [
      "It is a three-digit number.\n"
     ]
    }
   ],
   "source": [
    "num = int(input(\"Enter a number: \"))\n",
    "\n",
    "if num >= 100 and num <= 999:\n",
    "    print(\"It is a three-digit number.\")\n",
    "\n",
    "elif num <= -100 and num >= -999:\n",
    "    print(\"It is a three-digit number.\")\n",
    "\n",
    "else:\n",
    "    print(\"It is not a three-digit number.\")\n",
    "    "
   ]
  },
  {
   "cell_type": "code",
   "execution_count": null,
   "id": "eadcd334-dc18-4b15-b14d-4db932c194c9",
   "metadata": {},
   "outputs": [],
   "source": []
  }
 ],
 "metadata": {
  "kernelspec": {
   "display_name": "Python [conda env:base] *",
   "language": "python",
   "name": "conda-base-py"
  },
  "language_info": {
   "codemirror_mode": {
    "name": "ipython",
    "version": 3
   },
   "file_extension": ".py",
   "mimetype": "text/x-python",
   "name": "python",
   "nbconvert_exporter": "python",
   "pygments_lexer": "ipython3",
   "version": "3.13.5"
  }
 },
 "nbformat": 4,
 "nbformat_minor": 5
}
