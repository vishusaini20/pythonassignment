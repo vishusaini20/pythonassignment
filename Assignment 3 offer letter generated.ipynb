{
 "cells": [
  {
   "cell_type": "code",
   "execution_count": 1,
   "id": "bc1a10a2-f3d0-4763-a320-65d06ebef27e",
   "metadata": {},
   "outputs": [
    {
     "name": "stdin",
     "output_type": "stream",
     "text": [
      "enter the candidate's full name:  Vishu saini\n",
      "enter the candidate's post or designation:  python developer\n",
      "enter the candidate's address:  A\\52 sector 16 noida\n",
      "enter the ctc offered:  5552655\n",
      "enter the candidate's email:  vs@gmail.com\n",
      "enter the date of joining:  22-07-2025\n",
      "enter the respective person's name:  Rohit Sir\n"
     ]
    }
   ],
   "source": [
    "                                              #offer letter Generated\n",
    "full_name = input(\"enter the candidate's full name: \") \n",
    "designation = input(\"enter the candidate's post or designation: \")\n",
    "address = input(\"enter the candidate's address: \")\n",
    "ctc = input(\"enter the ctc offered: \")\n",
    "email = input(\"enter the candidate's email: \")\n",
    "date_of_joining = input(\"enter the date of joining: \")\n",
    "respective_person = input(\"enter the respective person's name: \")\n",
    "\n",
    "offer_letter_content = f\"\"\"\n",
    "{address} \n",
    "\n",
    "Dear {full_name},\n",
    "\n",
    "Subject: Offer of Employment for the position of {designation}\n",
    "\n",
    "We are delighted to extend this formal offer of employment to you for the position of {designation} at our organization. Based on your qualifications and the skills you demonstrated during the recruitment process, we are confident that you will be a valuable addition to our team.\n",
    "\n",
    "As discussed, your expected date of joining is {date_of_joining}. Your total compensation package will be {ctc}, which includes all salary components as per the company’s policy. Further details regarding your compensation will be provided in your employment contract.\n",
    "\n",
    "We expect you to bring your best efforts to help the company achieve its goals, and we are committed to supporting your professional growth during your time with us.\n",
    "\n",
    "Please confirm your acceptance of this offer by sending an email to {email}.com at your earliest convenience. Should you have any queries regarding this offer, feel free to reach out to us.\n",
    "\n",
    "We look forward to having you onboard and are excited about the great things we can accomplish together.\n",
    "\n",
    "Sincerely,\n",
    "\n",
    "{respective_person}\n",
    "HR Manager\"\"\""
   ]
  },
  {
   "cell_type": "code",
   "execution_count": 2,
   "id": "ccfb7bc8-de0f-475c-b28f-3d950c4d5dc3",
   "metadata": {},
   "outputs": [
    {
     "name": "stdout",
     "output_type": "stream",
     "text": [
      "\n",
      "A\\52 sector 16 noida \n",
      "\n",
      "Dear Vishu saini,\n",
      "\n",
      "Subject: Offer of Employment for the position of python developer\n",
      "\n",
      "We are delighted to extend this formal offer of employment to you for the position of python developer at our organization. Based on your qualifications and the skills you demonstrated during the recruitment process, we are confident that you will be a valuable addition to our team.\n",
      "\n",
      "As discussed, your expected date of joining is 22-07-2025. Your total compensation package will be 5552655, which includes all salary components as per the company’s policy. Further details regarding your compensation will be provided in your employment contract.\n",
      "\n",
      "We expect you to bring your best efforts to help the company achieve its goals, and we are committed to supporting your professional growth during your time with us.\n",
      "\n",
      "Please confirm your acceptance of this offer by sending an email to vs@gmail.com.com at your earliest convenience. Should you have any queries regarding this offer, feel free to reach out to us.\n",
      "\n",
      "We look forward to having you onboard and are excited about the great things we can accomplish together.\n",
      "\n",
      "Sincerely,\n",
      "\n",
      "Rohit Sir\n",
      "HR Manager\n"
     ]
    }
   ],
   "source": [
    "print(offer_letter_content)"
   ]
  },
  {
   "cell_type": "code",
   "execution_count": null,
   "id": "1d42acd7-f497-4a0e-85f3-9979c1f1149d",
   "metadata": {},
   "outputs": [],
   "source": []
  }
 ],
 "metadata": {
  "kernelspec": {
   "display_name": "Python [conda env:base] *",
   "language": "python",
   "name": "conda-base-py"
  },
  "language_info": {
   "codemirror_mode": {
    "name": "ipython",
    "version": 3
   },
   "file_extension": ".py",
   "mimetype": "text/x-python",
   "name": "python",
   "nbconvert_exporter": "python",
   "pygments_lexer": "ipython3",
   "version": "3.13.5"
  }
 },
 "nbformat": 4,
 "nbformat_minor": 5
}
