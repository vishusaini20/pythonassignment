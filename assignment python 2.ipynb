{
 "cells": [
  {
   "cell_type": "code",
   "execution_count": 50,
   "id": "fb5e9460-7beb-4180-9f13-b2e1efd1605b",
   "metadata": {},
   "outputs": [],
   "source": [
    "my_string = \"python\""
   ]
  },
  {
   "cell_type": "code",
   "execution_count": null,
   "id": "10b28203-46b8-4b69-8de6-a4a0ab7bb2f3",
   "metadata": {},
   "outputs": [],
   "source": [
    "#1. str.capitalize()\n",
    "#Capitalizes the first character."
   ]
  },
  {
   "cell_type": "code",
   "execution_count": 9,
   "id": "47fa16e0-98db-4b26-85a2-094fab54dbb1",
   "metadata": {},
   "outputs": [
    {
     "name": "stdout",
     "output_type": "stream",
     "text": [
      "Python\n"
     ]
    }
   ],
   "source": [
    "my_string = \"python\"\n",
    "print(my_string.capitalize())"
   ]
  },
  {
   "cell_type": "code",
   "execution_count": null,
   "id": "ed65dd8b-8745-4d53-91cf-f2dc4ca92df5",
   "metadata": {},
   "outputs": [],
   "source": [
    "#2. str.casefold\n",
    "#Converts to lowercase (more aggressive than lower())."
   ]
  },
  {
   "cell_type": "code",
   "execution_count": 56,
   "id": "294d4083-2e45-4c12-8be6-2df1c47bcc4d",
   "metadata": {},
   "outputs": [
    {
     "name": "stdout",
     "output_type": "stream",
     "text": [
      "der fluss\n"
     ]
    }
   ],
   "source": [
    "my_string1 = \"der Fluß\"\n",
    "my_string2 = \"der Fluss\"\n",
    "print(my_string1.casefold())"
   ]
  },
  {
   "cell_type": "code",
   "execution_count": 59,
   "id": "f9bfc9f2-8fa3-4daa-89c5-077da44df5cd",
   "metadata": {},
   "outputs": [
    {
     "name": "stdout",
     "output_type": "stream",
     "text": [
      "der fluß\n"
     ]
    }
   ],
   "source": [
    "print(my_string1.lower())"
   ]
  },
  {
   "cell_type": "code",
   "execution_count": null,
   "id": "877edc20-497d-4544-8641-ededaad25297",
   "metadata": {},
   "outputs": [],
   "source": [
    "#3. str.center(width[, fillchar])\n",
    "#Centers the string within the specified width."
   ]
  },
  {
   "cell_type": "code",
   "execution_count": 16,
   "id": "1baa8f77-57fb-4ad2-856d-a6049d7e1465",
   "metadata": {},
   "outputs": [
    {
     "name": "stdout",
     "output_type": "stream",
     "text": [
      "**python**\n"
     ]
    }
   ],
   "source": [
    "my_string = \"python\"\n",
    "print(my_string.center(10,\"*\"))"
   ]
  },
  {
   "cell_type": "code",
   "execution_count": null,
   "id": "1e4a02c4-4686-494c-a45b-41d1bb267905",
   "metadata": {},
   "outputs": [],
   "source": [
    "#4. str.count(sub[, start[, end]])\n",
    "#Returns the number of non-overlapping occurrences of a substring."
   ]
  },
  {
   "cell_type": "code",
   "execution_count": 26,
   "id": "7c764da6-1678-471d-a605-322ba19e7d70",
   "metadata": {},
   "outputs": [
    {
     "name": "stdout",
     "output_type": "stream",
     "text": [
      "6\n",
      "2\n"
     ]
    }
   ],
   "source": [
    "my_string = \"python pppppy\"\n",
    "print(my_string.count(\"p\"))\n",
    "print(my_string.count(\"p\",10,len(my_string)))"
   ]
  },
  {
   "cell_type": "code",
   "execution_count": null,
   "id": "d5c45e2d-a141-4935-a104-e31fb7b928a0",
   "metadata": {},
   "outputs": [],
   "source": [
    "#5. str.encode(encoding=\"utf-8\", errors=\"strict\")\n",
    "#Returns encoded version of the string."
   ]
  },
  {
   "cell_type": "code",
   "execution_count": 94,
   "id": "2522bc5c-87be-4b8d-881d-2b4bc05e139d",
   "metadata": {},
   "outputs": [
    {
     "name": "stdout",
     "output_type": "stream",
     "text": [
      "b'H\\xc3\\xa9llo'\n"
     ]
    }
   ],
   "source": [
    "my_string = \"Héllo\"  \n",
    "\n",
    "encoded_string = my_string.encode(\"utf-8\")\n",
    "print(encoded_string)\n"
   ]
  },
  {
   "cell_type": "code",
   "execution_count": null,
   "id": "da3bc017-3636-47b3-8ba5-1ca7f9e59b50",
   "metadata": {},
   "outputs": [],
   "source": [
    "#6.str.endswith(suffix[, start[, end]])\n",
    "#Returns True if the string ends with the specified suffix."
   ]
  },
  {
   "cell_type": "code",
   "execution_count": 1,
   "id": "5b3a8789-dd0c-49f4-b958-9ca0b2bf03ba",
   "metadata": {},
   "outputs": [
    {
     "name": "stdout",
     "output_type": "stream",
     "text": [
      "True\n"
     ]
    }
   ],
   "source": [
    "my_string =  \"python\"\n",
    "print(my_string.endswith(\"n\"))"
   ]
  },
  {
   "cell_type": "code",
   "execution_count": null,
   "id": "54b98f05-31a7-4343-b05e-1d06a01c43f5",
   "metadata": {},
   "outputs": [],
   "source": [
    "#7. str.expandtabs(tabsize=8)\n",
    "#Replaces tabs with spaces."
   ]
  },
  {
   "cell_type": "code",
   "execution_count": 13,
   "id": "e567fb38-b4b5-41c2-8d67-972f0050ebd5",
   "metadata": {},
   "outputs": [
    {
     "name": "stdout",
     "output_type": "stream",
     "text": [
      "vishu   ducat   noida\n"
     ]
    }
   ],
   "source": [
    "my_string = \"vishu\\tducat\\tnoida\"\n",
    "print(my_string.expandtabs())"
   ]
  },
  {
   "cell_type": "code",
   "execution_count": 9,
   "id": "06cf4ef7-8e7d-4732-8d94-227cc5a029bf",
   "metadata": {},
   "outputs": [],
   "source": [
    "#8.str.find(sub[, start[, end]])\n",
    "#Returns the lowest index of the substring; returns -1 if not found."
   ]
  },
  {
   "cell_type": "code",
   "execution_count": 10,
   "id": "9c420e33-cf15-4411-b64c-86ee7016aab8",
   "metadata": {},
   "outputs": [
    {
     "name": "stdout",
     "output_type": "stream",
     "text": [
      "-1\n"
     ]
    }
   ],
   "source": [
    "my_string = \"python\"\n",
    "print(my_string.find(\"python\",6))"
   ]
  },
  {
   "cell_type": "code",
   "execution_count": null,
   "id": "2c9ecc63-0f6c-4bf8-9161-3d8666813eb9",
   "metadata": {},
   "outputs": [],
   "source": [
    "#9.str.format(*args, **kwargs)\n",
    "#Formats string using the specified arguments."
   ]
  },
  {
   "cell_type": "code",
   "execution_count": 14,
   "id": "1d815c67-5759-405e-bb73-ca07b4f10335",
   "metadata": {},
   "outputs": [
    {
     "name": "stdout",
     "output_type": "stream",
     "text": [
      "My name is vishu and I am 20 years old.\n"
     ]
    }
   ],
   "source": [
    "my_string = \"My name is {} and I am {} years old.\".format(\"vishu\", 20)\n",
    "print(my_string.format())"
   ]
  },
  {
   "cell_type": "code",
   "execution_count": null,
   "id": "241fdc7e-988d-4044-8861-7d500a40bf5b",
   "metadata": {},
   "outputs": [],
   "source": [
    "#10.str.format_map(mapping)\n",
    "#Formats string using a mapping."
   ]
  },
  {
   "cell_type": "code",
   "execution_count": 18,
   "id": "28b110b8-7c3c-4065-93d9-7c4b62fe5f36",
   "metadata": {},
   "outputs": [
    {
     "name": "stdout",
     "output_type": "stream",
     "text": [
      "My name is vishu, I am 20 years old and I live in Noida.\n"
     ]
    }
   ],
   "source": [
    "info = {\"name\": \"vishu\", \"age\": 20, \"city\": \"Noida\"}\n",
    "my_string = \"My name is {name}, I am {age} years old and I live in {city}.\".format_map(info)\n",
    "print(my_string.format_map(my_string))"
   ]
  },
  {
   "cell_type": "code",
   "execution_count": null,
   "id": "bbd79ae0-33de-4331-ba71-e7db74ddd953",
   "metadata": {},
   "outputs": [],
   "source": [
    "#11. str.index(sub[, start[, end]])\n",
    "#Like find() but raises ValueError if not found."
   ]
  },
  {
   "cell_type": "code",
   "execution_count": 25,
   "id": "c8284b34-aead-48d8-a256-d5450965847e",
   "metadata": {},
   "outputs": [
    {
     "name": "stdout",
     "output_type": "stream",
     "text": [
      "6\n"
     ]
    }
   ],
   "source": [
    "my_string = \"hello python python\"\n",
    "index = my_string.index(\"python\")  # will return 6 as first occurance at index 6\n",
    "print(index)\n"
   ]
  },
  {
   "cell_type": "code",
   "execution_count": null,
   "id": "4bbdb6c9-68f5-459d-829f-c1e26d43ee42",
   "metadata": {},
   "outputs": [],
   "source": [
    "#12.str.isalnum()\n",
    "#Returns True if all characters are alphanumeric."
   ]
  },
  {
   "cell_type": "code",
   "execution_count": 33,
   "id": "78cfd8f6-c227-4bec-8bbe-7597f3e0c0ec",
   "metadata": {},
   "outputs": [
    {
     "name": "stdout",
     "output_type": "stream",
     "text": [
      "True\n",
      "False\n",
      "True\n"
     ]
    }
   ],
   "source": [
    "my_string1 = \"Python3\"\n",
    "my_string2 = \"Python 3\"\n",
    "my_string3 = \"7701\"\n",
    "\n",
    "print(my_string1.isalnum())\n",
    "print(my_string2.isalnum())\n",
    "print(my_string3.isalnum())"
   ]
  },
  {
   "cell_type": "code",
   "execution_count": null,
   "id": "0aaeec85-44f9-4986-b08c-f9942e8ce1ac",
   "metadata": {},
   "outputs": [],
   "source": [
    "#13.str.isalpha()\n",
    "#Returns True if all characters are alphabetic."
   ]
  },
  {
   "cell_type": "code",
   "execution_count": 42,
   "id": "1cbbd6d9-c93e-48b9-b13f-1281e16209d2",
   "metadata": {},
   "outputs": [
    {
     "name": "stdout",
     "output_type": "stream",
     "text": [
      "True\n",
      "False\n",
      "False\n"
     ]
    }
   ],
   "source": [
    "my_string1 = \"python\"\n",
    "my_string2 = \"python123\"\n",
    "my_string3 = \"1234\"\n",
    "print(my_string1.isalpha())\n",
    "print(my_string2.isalpha())\n",
    "print(my_string3.isalpha())"
   ]
  },
  {
   "cell_type": "code",
   "execution_count": null,
   "id": "2eee5374-3e18-4e6a-9350-4d0add4a3a40",
   "metadata": {},
   "outputs": [],
   "source": [
    "#14.str.isascii()\n",
    "#Returns True if all characters are ASCII."
   ]
  },
  {
   "cell_type": "code",
   "execution_count": 40,
   "id": "18910895-4748-4a87-9714-5287a8e2be00",
   "metadata": {},
   "outputs": [
    {
     "name": "stdout",
     "output_type": "stream",
     "text": [
      "True\n",
      "True\n",
      "False\n"
     ]
    }
   ],
   "source": [
    "my_string1 = \"hello123\"\n",
    "my_string2 = \"hello\"\n",
    "my_string3 = \"你好\"\n",
    "\n",
    "print(my_string1.isascii())\n",
    "print(my_string2.isascii())\n",
    "print(my_string3.isascii())"
   ]
  },
  {
   "cell_type": "code",
   "execution_count": null,
   "id": "531fb9bb-8700-4aa3-ac00-480ca9c821f9",
   "metadata": {},
   "outputs": [],
   "source": [
    "#15.str.isdecimal()\n",
    "#Returns True if all characters are decimal characters."
   ]
  },
  {
   "cell_type": "code",
   "execution_count": 35,
   "id": "add41114-4160-4b3f-b859-8eaaa9cc163b",
   "metadata": {},
   "outputs": [
    {
     "name": "stdout",
     "output_type": "stream",
     "text": [
      "True\n",
      "False\n",
      "False\n"
     ]
    }
   ],
   "source": [
    "my_string1 = \"12345\"\n",
    "my_string2 = \"12.345\"\n",
    "my_string3 = \"hello\"\n",
    "\n",
    "print(my_string1.isdecimal())  \n",
    "print(my_string2.isdecimal())  \n",
    "print(my_string3.isdecimal())  "
   ]
  },
  {
   "cell_type": "code",
   "execution_count": null,
   "id": "df9c9b85-7b53-4509-b7d9-f213a80d0391",
   "metadata": {},
   "outputs": [],
   "source": [
    "#16.str.isdigit()\n",
    "#Returns True if all characters are digits."
   ]
  },
  {
   "cell_type": "code",
   "execution_count": 44,
   "id": "49f7dd64-3707-43a7-9333-f52db236a4e1",
   "metadata": {},
   "outputs": [
    {
     "name": "stdout",
     "output_type": "stream",
     "text": [
      "True\n",
      "False\n",
      "False\n"
     ]
    }
   ],
   "source": [
    "my_string1 = \"12345\"     \n",
    "my_string2 = \"123.45\"\n",
    "my_string3 = \"hello\"\n",
    "\n",
    "print(my_string1.isdigit())\n",
    "print(my_string2.isdigit())\n",
    "print(my_string3.isdigit())\n"
   ]
  },
  {
   "cell_type": "code",
   "execution_count": null,
   "id": "8477818a-8c1b-40c0-8e91-addb136b1e3b",
   "metadata": {},
   "outputs": [],
   "source": [
    "#17str.isidentifier()\n",
    "#Returns True if string is a valid identifier."
   ]
  },
  {
   "cell_type": "code",
   "execution_count": 45,
   "id": "d219ed9d-b29b-4e52-9aaa-5e9e1caa2cc1",
   "metadata": {},
   "outputs": [
    {
     "name": "stdout",
     "output_type": "stream",
     "text": [
      "True\n",
      "False\n",
      "True\n",
      "True\n"
     ]
    }
   ],
   "source": [
    "my_string1 = \"my_variable\"\n",
    "my_string2 = \"2ndValue\"\n",
    "my_string3 = \"class\"\n",
    "my_string4 = \"validName\"\n",
    "\n",
    "print(my_string1.isidentifier())\n",
    "print(my_string2.isidentifier())\n",
    "print(my_string3.isidentifier())\n",
    "print(my_string4.isidentifier())\n"
   ]
  },
  {
   "cell_type": "code",
   "execution_count": null,
   "id": "7b52cf4c-88d8-4142-b8f4-20cc5ce2dac6",
   "metadata": {},
   "outputs": [],
   "source": [
    "#18. str.islower()\n",
    "#Returns True if all characters are lowercase."
   ]
  },
  {
   "cell_type": "code",
   "execution_count": 46,
   "id": "de6f89e9-47be-49d6-ab87-2f177b539cbe",
   "metadata": {},
   "outputs": [
    {
     "name": "stdout",
     "output_type": "stream",
     "text": [
      "True\n",
      "False\n",
      "True\n"
     ]
    }
   ],
   "source": [
    "my_string1 = \"python\"     \n",
    "my_string2 = \"Python\"\n",
    "my_string3 = \"hello\"\n",
    "\n",
    "print(my_string1.islower())\n",
    "print(my_string2.islower())\n",
    "print(my_string3.islower())"
   ]
  },
  {
   "cell_type": "code",
   "execution_count": null,
   "id": "0f2a02d8-4bad-4f20-a208-627d9639bb0d",
   "metadata": {},
   "outputs": [],
   "source": [
    "#19. str.isnumeric()\n",
    "#Returns True if all characters are numeric.\n"
   ]
  },
  {
   "cell_type": "code",
   "execution_count": 95,
   "id": "361b1f42-55e8-487b-a13d-d935f166091f",
   "metadata": {},
   "outputs": [
    {
     "name": "stdout",
     "output_type": "stream",
     "text": [
      "True\n",
      "False\n",
      "True\n",
      "True\n"
     ]
    }
   ],
   "source": [
    "my_string1 = \"12345\"\n",
    "my_string2 = \"12.345\"\n",
    "my_string3 = \"½\"      #uncode \n",
    "my_string4 = \"١٢٣٤٥\"  #Arabic digits\n",
    "\n",
    "print(my_string1.isnumeric())  \n",
    "print(my_string2.isnumeric())\n",
    "print(my_string3.isnumeric())  \n",
    "print(my_string4.isnumeric())"
   ]
  },
  {
   "cell_type": "code",
   "execution_count": null,
   "id": "c85278b9-11cd-49c7-8b43-6ea47eb35411",
   "metadata": {},
   "outputs": [],
   "source": [
    "#20. str.isprintable()\n",
    "#Returns True if all characters are printable."
   ]
  },
  {
   "cell_type": "code",
   "execution_count": 61,
   "id": "4db45713-ffc6-448a-81c0-5674bb23e918",
   "metadata": {},
   "outputs": [
    {
     "name": "stdout",
     "output_type": "stream",
     "text": [
      "True\n",
      "False\n",
      "True\n",
      "True\n"
     ]
    }
   ],
   "source": [
    "my_string1 = \"Hello, world!\"         # All printable characters\n",
    "my_string2 = \"Hello\\nWorld\"          # Contains newline (not printable)\n",
    "my_string3 = \"1234@#₹\"               # All printable\n",
    "my_string4 = \" \"                     # Space is printable\n",
    "\n",
    "print(my_string1.isprintable())\n",
    "print(my_string2.isprintable())\n",
    "print(my_string3.isprintable())\n",
    "print(my_string4.isprintable())"
   ]
  },
  {
   "cell_type": "code",
   "execution_count": null,
   "id": "000a05c7-964d-426b-a210-0a9ddde6eddf",
   "metadata": {},
   "outputs": [],
   "source": [
    "#21. str.isspace()\n",
    "#Returns True if all characters are whitespace."
   ]
  },
  {
   "cell_type": "code",
   "execution_count": 62,
   "id": "6f6b8b8f-6bb2-4e35-808f-bd5a0a45dc11",
   "metadata": {},
   "outputs": [
    {
     "name": "stdout",
     "output_type": "stream",
     "text": [
      "True\n",
      "True\n",
      "False\n",
      "False\n"
     ]
    }
   ],
   "source": [
    "my_string1 = \"   \"        # Only spaces\n",
    "my_string2 = \"\\t\\n\"       # Tab and newline (also space-like)\n",
    "my_string3 = \"Hello\"\n",
    "my_string4 = \"  Hello  \"\n",
    "\n",
    "print(my_string1.isspace())\n",
    "print(my_string2.isspace())\n",
    "print(my_string3.isspace())\n",
    "print(my_string4.isspace())"
   ]
  },
  {
   "cell_type": "code",
   "execution_count": null,
   "id": "a210f8ea-41e9-4751-91c4-f00f7063b195",
   "metadata": {},
   "outputs": [],
   "source": [
    "#22. str.istitle()\n",
    "#Returns True if the string is titlecased."
   ]
  },
  {
   "cell_type": "code",
   "execution_count": 63,
   "id": "5833cfa2-23e9-4799-ac9d-c8f0fd0c8154",
   "metadata": {},
   "outputs": [
    {
     "name": "stdout",
     "output_type": "stream",
     "text": [
      "True\n",
      "False\n",
      "False\n",
      "True\n"
     ]
    }
   ],
   "source": [
    "\n",
    "my_string1 = \"This Is A Title\"\n",
    "my_string2 = \"This is a Title\"\n",
    "my_string3 = \"THIS IS A TITLE\"\n",
    "my_string4 = \"Python3 Rocks\"\n",
    "\n",
    "print(my_string1.istitle())\n",
    "print(my_string2.istitle())\n",
    "print(my_string3.istitle())\n",
    "print(my_string4.istitle())"
   ]
  },
  {
   "cell_type": "code",
   "execution_count": null,
   "id": "e91ef7a0-c8f2-4001-8a23-74b46bacccdd",
   "metadata": {},
   "outputs": [],
   "source": [
    "#23. str.isupper() \n",
    "#Returns True if all characters are uppercase."
   ]
  },
  {
   "cell_type": "code",
   "execution_count": 64,
   "id": "58c7d9c9-a7d7-4c66-b45d-616e26237d92",
   "metadata": {},
   "outputs": [
    {
     "name": "stdout",
     "output_type": "stream",
     "text": [
      "True\n",
      "False\n",
      "True\n",
      "False\n"
     ]
    }
   ],
   "source": [
    "my_string1 = \"PYTHON\"\n",
    "my_string2 = \"Python\"\n",
    "my_string3 = \"PYTHON3!\"\n",
    "my_string4 = \"123!\"\n",
    "\n",
    "print(my_string1.isupper())\n",
    "print(my_string2.isupper())\n",
    "print(my_string3.isupper())\n",
    "print(my_string4.isupper())\n"
   ]
  },
  {
   "cell_type": "code",
   "execution_count": null,
   "id": "5016134e-4d1c-485e-b128-46790fc3c0a9",
   "metadata": {},
   "outputs": [],
   "source": [
    "#24. str.join(iterable)\n",
    "#Joins elements of an iterable with the string as a separator."
   ]
  },
  {
   "cell_type": "code",
   "execution_count": 65,
   "id": "d348b3be-df62-4c4c-89c1-d2ce713cb8b9",
   "metadata": {},
   "outputs": [
    {
     "name": "stdout",
     "output_type": "stream",
     "text": [
      "Joined with space: Python is awesome\n",
      "Joined with dash: Python-is-awesome\n",
      "Joined without space: Pythonisawesome\n"
     ]
    }
   ],
   "source": [
    "words = [\"Python\", \"is\", \"awesome\"]\n",
    "\n",
    "\n",
    "sentence = \" \".join(words)\n",
    "\n",
    "\n",
    "dashed = \"-\".join(words)\n",
    "\n",
    "\n",
    "compact = \"\".join(words)\n",
    "\n",
    "print(\"Joined with space:\", sentence)\n",
    "print(\"Joined with dash:\", dashed)\n",
    "print(\"Joined without space:\", compact)"
   ]
  },
  {
   "cell_type": "code",
   "execution_count": null,
   "id": "090323c6-b3fd-48f2-aaa7-b926747d3714",
   "metadata": {},
   "outputs": [],
   "source": [
    "#25. str.ljust(width[, fillchar])\n",
    "#Left-justifies the string."
   ]
  },
  {
   "cell_type": "code",
   "execution_count": 70,
   "id": "c3342290-6d02-49db-ac48-dcc4e5981a16",
   "metadata": {},
   "outputs": [
    {
     "name": "stdout",
     "output_type": "stream",
     "text": [
      "'Hello     '\n",
      "'Hello-----'\n"
     ]
    }
   ],
   "source": [
    "my_string = \"Hello\"\n",
    "\n",
    "left1 = my_string.ljust(10)\n",
    "left2 = my_string.ljust(10, '-')\n",
    "\n",
    "print(repr(left1))\n",
    "print(repr(left2))"
   ]
  },
  {
   "cell_type": "code",
   "execution_count": null,
   "id": "8536e3f4-db2a-40b9-b827-8c782921739f",
   "metadata": {},
   "outputs": [],
   "source": [
    "#26. str.lower()\n",
    "#Converts to lowercase."
   ]
  },
  {
   "cell_type": "code",
   "execution_count": 69,
   "id": "2716d75b-166b-406d-aed2-d37b2eee7bb8",
   "metadata": {},
   "outputs": [
    {
     "name": "stdout",
     "output_type": "stream",
     "text": [
      "Lowercase 1: vishu\n",
      "Lowercase 2: python is fun\n"
     ]
    }
   ],
   "source": [
    "my_string1 = \"VISHU\"\n",
    "my_string2 = \"Python Is FUN\"\n",
    "\n",
    "lower1 = my_string1.lower()\n",
    "lower2 = my_string2.lower()\n",
    "\n",
    "print(\"Lowercase 1:\", lower1)\n",
    "print(\"Lowercase 2:\", lower2)"
   ]
  },
  {
   "cell_type": "code",
   "execution_count": null,
   "id": "4b83314e-2557-4667-b8f4-78da2206a8c4",
   "metadata": {},
   "outputs": [],
   "source": [
    "#27. str.lstrip([chars])\n",
    "#Removes leading characters (default: whitespace)."
   ]
  },
  {
   "cell_type": "code",
   "execution_count": 71,
   "id": "795db1ff-13b1-40ba-9ebb-b4e3da959ccf",
   "metadata": {},
   "outputs": [
    {
     "name": "stdout",
     "output_type": "stream",
     "text": [
      "'Hello'\n",
      "'Python---'\n",
      "'Hello'\n"
     ]
    }
   ],
   "source": [
    "my_string1 = \"   Hello\"\n",
    "my_string2 = \"---Python---\"\n",
    "my_string3 = \"xyxxyHello\"\n",
    "\n",
    "# Remove leading whitespace\n",
    "strip1 = my_string1.lstrip()\n",
    "\n",
    "# Remove eading '-' characters\n",
    "strip2 = my_string2.lstrip(\"-\")\n",
    "\n",
    "# Remove leading 'x' and 'y' characters\n",
    "strip3 = my_string3.lstrip(\"xy\")\n",
    "\n",
    "print(repr(strip1))\n",
    "print(repr(strip2))\n",
    "print(repr(strip3))\n"
   ]
  },
  {
   "cell_type": "code",
   "execution_count": null,
   "id": "2ed55e43-2f70-413d-af38-6501b38a2269",
   "metadata": {},
   "outputs": [],
   "source": [
    "#28. str.maketrans(x, y=None, z=None)\n",
    "#Returns a translation table"
   ]
  },
  {
   "cell_type": "code",
   "execution_count": 72,
   "id": "a15b6009-cf4a-4fac-8a65-f3642ed14f46",
   "metadata": {},
   "outputs": [
    {
     "name": "stdout",
     "output_type": "stream",
     "text": [
      "Original text: email is awesome\n",
      "Translated text: 3m@1l 1s @w3som3\n"
     ]
    }
   ],
   "source": [
    "\n",
    "# Replace 'a' with '@', 'e' with '3', 'i' with '1'\n",
    "trans_table = str.maketrans(\"aei\", \"@31\")\n",
    "\n",
    "text = \"email is awesome\"\n",
    "translated = text.translate(trans_table)\n",
    "\n",
    "print(\"Original text:\", text)\n",
    "print(\"Translated text:\", translated)"
   ]
  },
  {
   "cell_type": "code",
   "execution_count": null,
   "id": "4ea47aa8-17d4-4d4b-a17e-8f6159025aba",
   "metadata": {},
   "outputs": [],
   "source": [
    "#29. str.partition(sep)\n",
    "#Splits the string at the first occurrence of sep."
   ]
  },
  {
   "cell_type": "code",
   "execution_count": 73,
   "id": "f302c3d2-a32e-4cf0-a749-9b3bf462748e",
   "metadata": {},
   "outputs": [
    {
     "name": "stdout",
     "output_type": "stream",
     "text": [
      "Partition result 1: ('Hello,', ' ', 'world!')\n",
      "Partition result 2: ('Hello\\nWorld', '', '')\n"
     ]
    }
   ],
   "source": [
    "my_string1 = \"Python is awesome\"\n",
    "my_string2 = \"no-separator-here\"\n",
    "\n",
    "# Partition using a space\n",
    "part1 = text1.partition(\" \")\n",
    "\n",
    "# Partition using a dash\n",
    "part2 = text2.partition(\"-\")\n",
    "\n",
    "print(\"Partition result 1:\", part1)\n",
    "print(\"Partition result 2:\", part2)\n"
   ]
  },
  {
   "cell_type": "code",
   "execution_count": null,
   "id": "2a3dd22c-0e9c-4e71-ae27-50642eac83ec",
   "metadata": {},
   "outputs": [],
   "source": [
    "#30. str.removeprefix(prefix)\n",
    "#Removes the specified prefix if present."
   ]
  },
  {
   "cell_type": "code",
   "execution_count": 74,
   "id": "b724525f-8679-4925-8eaa-a6662f31e134",
   "metadata": {},
   "outputs": [
    {
     "name": "stdout",
     "output_type": "stream",
     "text": [
      "After removing 'un': happy\n",
      "After removing 're': play\n",
      "Trying to remove 'under': misunderstand\n"
     ]
    }
   ],
   "source": [
    "text1 = \"unhappy\"\n",
    "text2 = \"replay\"\n",
    "text3 = \"misunderstand\"\n",
    "\n",
    "# Remove specific prefixes\n",
    "result1 = text1.removeprefix(\"un\")\n",
    "result2 = text2.removeprefix(\"re\")\n",
    "result3 = text3.removeprefix(\"under\")  # Not at start, won't remove\n",
    "\n",
    "print(\"After removing 'un':\", result1)\n",
    "print(\"After removing 're':\", result2)\n",
    "print(\"Trying to remove 'under':\", result3)"
   ]
  },
  {
   "cell_type": "code",
   "execution_count": null,
   "id": "e88a3feb-06d0-4c9a-88f4-b9cedb3ce9ad",
   "metadata": {},
   "outputs": [],
   "source": [
    "#31. str.removesuffix(suffix)\n",
    "#Removes the specified suffix if present."
   ]
  },
  {
   "cell_type": "code",
   "execution_count": 76,
   "id": "d013e470-2d68-401a-9569-6166c18272d5",
   "metadata": {},
   "outputs": [
    {
     "name": "stdout",
     "output_type": "stream",
     "text": [
      "filename\n",
      "report_final\n",
      "data_file_backup\n"
     ]
    }
   ],
   "source": [
    "my_string1 = \"filename.txt\"\n",
    "my_string2 = \"report_final.pdf\"\n",
    "my_string3 = \"data_file_backup\"\n",
    "\n",
    "# Remove known suffixes\n",
    "result1 = my_string1.removesuffix(\".txt\")\n",
    "result2 = my_string2.removesuffix(\".pdf\")\n",
    "result3 = my_string3.removesuffix(\"_final\")  # Not at end, won't remove\n",
    "\n",
    "print(result1)\n",
    "print(result2)\n",
    "print(result3)"
   ]
  },
  {
   "cell_type": "code",
   "execution_count": null,
   "id": "2d95ab9a-b2b9-4a75-9fc9-57125532b217",
   "metadata": {},
   "outputs": [],
   "source": [
    "#32. str.replace(old, new[, count])\n",
    "#Returns a copy with all occurrences of a substring replaced."
   ]
  },
  {
   "cell_type": "code",
   "execution_count": 82,
   "id": "0cd56e6b-cb2f-4050-ab6c-8f25f0ea00e5",
   "metadata": {},
   "outputs": [
    {
     "name": "stdout",
     "output_type": "stream",
     "text": [
      "Java is fun. Java is powerful. Java is everywhere.\n",
      "Java is fun. Java is powerful. Python is everywhere.\n"
     ]
    }
   ],
   "source": [
    "my_string = \"Python is fun. Python is powerful. Python is everywhere.\"\n",
    "\n",
    "# Replace all occurrences of \"Python\" with \"Java\"\n",
    "result1 = my_string.replace(\"Python\", \"Java\")\n",
    "\n",
    "# Replace only the first 2 occurrences\n",
    "result2 = my_string.replace(\"Python\", \"Java\", 2)\n",
    "\n",
    "print( result1)\n",
    "print(result2)\n"
   ]
  },
  {
   "cell_type": "code",
   "execution_count": null,
   "id": "ea0b71d9-0da5-4a06-82b3-e0a61c0b0760",
   "metadata": {},
   "outputs": [],
   "source": [
    "#33. str.rfind(sub[, start[, end]])\n",
    "#Returns the highest index of the substring."
   ]
  },
  {
   "cell_type": "code",
   "execution_count": 81,
   "id": "da88b527-de03-4005-a43f-baa0e16e343e",
   "metadata": {},
   "outputs": [
    {
     "name": "stdout",
     "output_type": "stream",
     "text": [
      "23\n",
      "0\n"
     ]
    }
   ],
   "source": [
    "my_string = \"Python is powerful and Python is popular\"\n",
    "\n",
    "# Find the last occurrence of \"Python\"\n",
    "last_index = my_string.rfind(\"Python\")\n",
    "\n",
    "# Find \"Python\" between index 0 and 25\n",
    "partial_index = my_string.rfind(\"Python\", 0, 25)\n",
    "\n",
    "print(last_index)\n",
    "print(partial_index)"
   ]
  },
  {
   "cell_type": "code",
   "execution_count": null,
   "id": "9196cfd6-b473-4f0a-a0fb-20f634335d61",
   "metadata": {},
   "outputs": [],
   "source": [
    "#34. str.rindex(sub[, start[, end]])\n",
    "#Like rfind() but raises ValueError if not found"
   ]
  },
  {
   "cell_type": "code",
   "execution_count": 83,
   "id": "c912628e-e2a9-43d8-87aa-d0149ad988b0",
   "metadata": {},
   "outputs": [
    {
     "name": "stdout",
     "output_type": "stream",
     "text": [
      "22\n",
      "0\n"
     ]
    }
   ],
   "source": [
    "my_string = \"Python is popular and Python is powerful\"\n",
    "\n",
    "# Find the last occurrence of \"Python\"\n",
    "last_index = my_string.rindex(\"Python\")\n",
    "\n",
    "# Find \"Python\" in a specific range (0 to 25)\n",
    "partial_index = my_string.rindex(\"Python\", 0, 25)\n",
    "\n",
    "print(last_index)\n",
    "print(partial_index)\n"
   ]
  },
  {
   "cell_type": "code",
   "execution_count": null,
   "id": "6a5e2417-ee20-47da-a6fb-dcb02a029d08",
   "metadata": {},
   "outputs": [],
   "source": [
    "#35. str.rjust(width[, fillchar])\n",
    "#Right-justifies the string."
   ]
  },
  {
   "cell_type": "code",
   "execution_count": 86,
   "id": "2e04c89f-b86b-4a12-a420-755cf6004225",
   "metadata": {},
   "outputs": [
    {
     "name": "stdout",
     "output_type": "stream",
     "text": [
      "'      Python'\n",
      "'------Python'\n"
     ]
    }
   ],
   "source": [
    "my_string = \"Python\"\n",
    "\n",
    "# Right-justify in a field of width 12 (default fill: space)\n",
    "right1 = my_string.rjust(12)\n",
    "\n",
    "# Right-justify using '-' as fill character\n",
    "right2 = my_string.rjust(12, '-')\n",
    "\n",
    "print(repr(right1))\n",
    "print(repr(right2))"
   ]
  },
  {
   "cell_type": "code",
   "execution_count": null,
   "id": "dbd7d1e6-dd70-4607-bdc4-38e605e0605d",
   "metadata": {},
   "outputs": [],
   "source": [
    "#36. str.rsplit(sep=None, maxsplit=-1)\n",
    "#Splits the string from the right."
   ]
  },
  {
   "cell_type": "code",
   "execution_count": 88,
   "id": "35a612be-6587-4508-8509-989795daf403",
   "metadata": {},
   "outputs": [
    {
     "name": "stdout",
     "output_type": "stream",
     "text": [
      "['apple,banana', 'grape', 'orange']\n",
      "['one', 'two', 'three']\n"
     ]
    }
   ],
   "source": [
    "my_string = \"apple,banana,grape,orange\"\n",
    "\n",
    "# Split from the right using comma\n",
    "split1 = my_string.rsplit(\",\", 2)  # split max 2 times from right\n",
    "\n",
    "# Using default (no args), behaves like split()\n",
    "split2 = \"  one two   three  \".rsplit()\n",
    "\n",
    "print(split1)\n",
    "print(split2)"
   ]
  },
  {
   "cell_type": "code",
   "execution_count": null,
   "id": "10c63d50-1826-40ad-b7aa-21e79eb27665",
   "metadata": {},
   "outputs": [],
   "source": [
    "#37.str.rstrip([chars])\n",
    "#Removes trailing characters (default: whitespace)."
   ]
  },
  {
   "cell_type": "code",
   "execution_count": 89,
   "id": "d699c07b-451a-4ff8-89a3-8a9494bfd781",
   "metadata": {},
   "outputs": [
    {
     "name": "stdout",
     "output_type": "stream",
     "text": [
      "'Hello World'\n",
      "'data.csv'\n"
     ]
    }
   ],
   "source": [
    "my_string1 = \"Hello World    \"\n",
    "my_string2 = \"data.csv,,,,,\"\n",
    "\n",
    "# Remove trailing spaces\n",
    "result1 = my_string1.rstrip()\n",
    "\n",
    "# Remove trailing commas\n",
    "result2 = my_string2.rstrip(',')\n",
    "\n",
    "print(repr(result1))\n",
    "print(repr(result2))"
   ]
  },
  {
   "cell_type": "code",
   "execution_count": null,
   "id": "eab8a161-9213-49ed-b8b4-3ed99b65b61a",
   "metadata": {},
   "outputs": [],
   "source": [
    "#38. str.split(sep=None, maxsplit=-1)\n",
    "#Splits the string."
   ]
  },
  {
   "cell_type": "code",
   "execution_count": 91,
   "id": "dfd1cac2-1e65-47de-ad83-8444ac1e2eb6",
   "metadata": {},
   "outputs": [
    {
     "name": "stdout",
     "output_type": "stream",
     "text": [
      "Split by whitespace: ['apple', 'banana', 'mango', 'orange']\n",
      "Split by '-' (max 2): ['apple', 'banana', 'mango-orange']\n"
     ]
    }
   ],
   "source": [
    "my_string1 = \"apple banana mango orange\"\n",
    "my_string2 = \"apple-banana-mango-orange\"\n",
    "\n",
    "# Default split (whitespace)\n",
    "split1 = my_string1.split()\n",
    "\n",
    "# Split using '-' and max 2 splits\n",
    "split2 = my_string2.split(\"-\", 2)\n",
    "\n",
    "print(\"Split by whitespace:\", split1)\n",
    "print(\"Split by '-' (max 2):\", split2)\n"
   ]
  },
  {
   "cell_type": "code",
   "execution_count": null,
   "id": "1f120923-c727-473b-ac93-b52397bcf257",
   "metadata": {},
   "outputs": [],
   "source": [
    "#39. str.splitlines([keepends])\n",
    "#Splits at line breaks"
   ]
  },
  {
   "cell_type": "code",
   "execution_count": 92,
   "id": "cd2f432f-b793-44fe-9b2f-203c5c1b87c2",
   "metadata": {},
   "outputs": [
    {
     "name": "stdout",
     "output_type": "stream",
     "text": [
      "['Hello', 'Welcome to Python', 'Enjoy coding!']\n",
      "['Hello\\n', 'Welcome to Python\\n', 'Enjoy coding!']\n"
     ]
    }
   ],
   "source": [
    "my_string = \"Hello\\nWelcome to Python\\nEnjoy coding!\"\n",
    "\n",
    "# Split lines without keeping newline characters\n",
    "lines1 = my_string.splitlines()\n",
    "\n",
    "# Split lines and keep the newline characters\n",
    "lines2 = my_string.splitlines(keepends=True)\n",
    "\n",
    "print(lines1)\n",
    "print(lines2)"
   ]
  },
  {
   "cell_type": "code",
   "execution_count": null,
   "id": "e909aa06-fbdf-4d04-86b7-9d1f2f777c17",
   "metadata": {},
   "outputs": [],
   "source": [
    "#40. str.startswith(prefix[, start[, end]])\n",
    "#Returns True if the string starts with the prefix."
   ]
  },
  {
   "cell_type": "code",
   "execution_count": 93,
   "id": "6b0d51b4-0d58-4831-a1de-63f76e8daa48",
   "metadata": {},
   "outputs": [
    {
     "name": "stdout",
     "output_type": "stream",
     "text": [
      "True\n",
      "True\n"
     ]
    }
   ],
   "source": [
    "my_string = \"Python is powerful\"\n",
    "\n",
    "# Check if string starts with \"Python\"\n",
    "result1 = my_string.startswith(\"Python\")\n",
    "\n",
    "# Check within a specific range (start=10, end=19)\n",
    "result2 = my_string.startswith(\"power\", 10, 19)\n",
    "\n",
    "print(result1)\n",
    "print(result2)"
   ]
  },
  {
   "cell_type": "code",
   "execution_count": null,
   "id": "fef32e03-a0a8-41d9-bc59-9bae841647c8",
   "metadata": {},
   "outputs": [],
   "source": []
  }
 ],
 "metadata": {
  "kernelspec": {
   "display_name": "Python [conda env:base] *",
   "language": "python",
   "name": "conda-base-py"
  },
  "language_info": {
   "codemirror_mode": {
    "name": "ipython",
    "version": 3
   },
   "file_extension": ".py",
   "mimetype": "text/x-python",
   "name": "python",
   "nbconvert_exporter": "python",
   "pygments_lexer": "ipython3",
   "version": "3.13.5"
  }
 },
 "nbformat": 4,
 "nbformat_minor": 5
}
