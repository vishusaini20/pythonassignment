{
 "cells": [
  {
   "cell_type": "code",
   "execution_count": null,
   "id": "61b43644-60f5-491f-9d22-08c0050b65bc",
   "metadata": {},
   "outputs": [],
   "source": [
    "# In the below elements which of them are values or an expression? eg:- values can be integer or string and expressions will be mathematical operators.\n",
    "#answer.1\n",
    "'hello' (str)\n",
    "-87.8 (float)\n",
    " 6     (int)\n",
    "*,-,+,/ (operators)"
   ]
  },
  {
   "cell_type": "code",
   "execution_count": null,
   "id": "42c0c39c-c3fd-4d6f-9167-a8a4469936f5",
   "metadata": {},
   "outputs": [],
   "source": [
    "# What is the difference between string and variable?\n",
    "#answer.2\n",
    "string -- value inside quotes (example:  \"hello\") \n",
    "variable -- name to store value (example: name = \"hello\")"
   ]
  },
  {
   "cell_type": "code",
   "execution_count": null,
   "id": "37afe7df-ae12-42af-8bd2-2f54b1ae0304",
   "metadata": {},
   "outputs": [],
   "source": [
    "# Describe three different data types.\n",
    "#answer.3\n",
    "int - integer number (example: 6,-5,10,0)\n",
    "str - string characters (example: \"hello\"  \"sachin\" )\n",
    "float - decimal number (example: 4.2,-10.3,0.02)"
   ]
  },
  {
   "cell_type": "code",
   "execution_count": 11,
   "id": "6203ec94-e81e-4433-8f04-971b6cbb2a83",
   "metadata": {},
   "outputs": [
    {
     "name": "stdout",
     "output_type": "stream",
     "text": [
      "17\n"
     ]
    }
   ],
   "source": [
    "# What is an expression made up of? What do all expressions do?\n",
    "#answer.4\n",
    "#expression is made of values,variables and operators\n",
    "name = (2+3*5)\n",
    "print(name)"
   ]
  },
  {
   "cell_type": "code",
   "execution_count": null,
   "id": "95f7cae3-5216-47a6-8728-227d7815fa69",
   "metadata": {},
   "outputs": [],
   "source": [
    "# This assignment statements, like spam = 10. What is the difference between an expression and a statement?\n",
    "#answer.5\n",
    "In programming, an expression is a combination of values, variables, operators, and function calls that evaluates to a\n",
    "single value. A statement, on the other hand, is a complete instruction that performs an action or controls program flow.\n",
    "Essentially, expressions produce values, while statements execute actions\n",
    "\n"
   ]
  },
  {
   "cell_type": "code",
   "execution_count": 6,
   "id": "fae57ddf-bb3a-450a-abb4-b3de49eff1aa",
   "metadata": {},
   "outputs": [
    {
     "data": {
      "text/plain": [
       "23"
      ]
     },
     "execution_count": 6,
     "metadata": {},
     "output_type": "execute_result"
    }
   ],
   "source": [
    "# After running the following code, what does the variable bacon contain?\n",
    "#answer.6\n",
    "bacon = 22\n",
    "bacon + 1"
   ]
  },
  {
   "cell_type": "code",
   "execution_count": 7,
   "id": "53af3be0",
   "metadata": {},
   "outputs": [
    {
     "name": "stdout",
     "output_type": "stream",
     "text": [
      "22\n"
     ]
    }
   ],
   "source": [
    "print(bacon)"
   ]
  },
  {
   "cell_type": "code",
   "execution_count": 3,
   "id": "123175d7-f9bf-4336-9790-f1f70c1e95c7",
   "metadata": {},
   "outputs": [
    {
     "name": "stdout",
     "output_type": "stream",
     "text": [
      "spamspamspam\n"
     ]
    }
   ],
   "source": [
    "# What should the values of the following two terms be?\n",
    "#answer.7\n",
    "name = \"spam\"\n",
    "print(\"spam\" + \"spamspam\")"
   ]
  },
  {
   "cell_type": "code",
   "execution_count": 4,
   "id": "da82543d-2acf-48ad-a4a5-2b7b9a0b1cbf",
   "metadata": {},
   "outputs": [
    {
     "name": "stdout",
     "output_type": "stream",
     "text": [
      "spamspamspam\n"
     ]
    }
   ],
   "source": [
    "name = \"spam\"\n",
    "print(\"spam\" * 3)"
   ]
  },
  {
   "cell_type": "code",
   "execution_count": null,
   "id": "f8b622e2-42cc-463d-ae1f-74326c86be0e",
   "metadata": {},
   "outputs": [],
   "source": [
    "# Why is eggs a valid variable name while 100 is invalid?\n",
    "#answer.8\n",
    "eggs is valid because it starts with a letter.\n",
    "\n",
    "100 is invalid because variable names cannot starts with numbers\n",
    "\n"
   ]
  },
  {
   "cell_type": "code",
   "execution_count": 5,
   "id": "83f6e019-cfca-43d3-899b-f5128b3a1485",
   "metadata": {},
   "outputs": [
    {
     "name": "stdout",
     "output_type": "stream",
     "text": [
      "100\n"
     ]
    }
   ],
   "source": [
    "# What three functions can be used to get the integer, floating-point number, or string version of a value?\n",
    "#answer.9\n",
    "\n",
    "str = (\"100\")\n",
    "print(str)"
   ]
  },
  {
   "cell_type": "code",
   "execution_count": 2,
   "id": "0db37e89-66ea-4c82-b4aa-9a6e72f81078",
   "metadata": {},
   "outputs": [
    {
     "name": "stdout",
     "output_type": "stream",
     "text": [
      "-30.5\n"
     ]
    }
   ],
   "source": [
    "float = -30.5\n",
    "print(float)"
   ]
  },
  {
   "cell_type": "code",
   "execution_count": 3,
   "id": "db6ab0c0-6469-4c10-b5ca-0f8704317d78",
   "metadata": {},
   "outputs": [
    {
     "name": "stdout",
     "output_type": "stream",
     "text": [
      "8\n"
     ]
    }
   ],
   "source": [
    "int = 8\n",
    "print(int)"
   ]
  },
  {
   "cell_type": "code",
   "execution_count": 10,
   "id": "aa14d775-6f18-4359-8a89-c369cd8fdf96",
   "metadata": {},
   "outputs": [
    {
     "name": "stdout",
     "output_type": "stream",
     "text": [
      "i have eaten99burritos\n"
     ]
    }
   ],
   "source": [
    "# Why does this expression cause an error? How can you fix it?\n",
    " #'i have eaten' +99 + 'burritos'\n",
    "#answer.10\n",
    "name =('i have eaten' + str (99) + 'burritos')\n",
    "print(name)"
   ]
  },
  {
   "cell_type": "code",
   "execution_count": null,
   "id": "e90109a6-363e-4838-8178-77ab2517178a",
   "metadata": {},
   "outputs": [],
   "source": []
  },
  {
   "cell_type": "code",
   "execution_count": null,
   "id": "de54be1f-eea9-4814-af31-596cb02fba8e",
   "metadata": {},
   "outputs": [],
   "source": []
  }
 ],
 "metadata": {
  "kernelspec": {
   "display_name": "Python [conda env:base] *",
   "language": "python",
   "name": "conda-base-py"
  },
  "language_info": {
   "codemirror_mode": {
    "name": "ipython",
    "version": 3
   },
   "file_extension": ".py",
   "mimetype": "text/x-python",
   "name": "python",
   "nbconvert_exporter": "python",
   "pygments_lexer": "ipython3",
   "version": "3.13.5"
  }
 },
 "nbformat": 4,
 "nbformat_minor": 5
}
