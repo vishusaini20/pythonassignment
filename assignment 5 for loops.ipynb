{
 "cells": [
  {
   "cell_type": "code",
   "execution_count": 5,
   "id": "3b482e17-902b-46bf-890f-b30720ad55d9",
   "metadata": {},
   "outputs": [],
   "source": [
    "#1: Write a Python program to print all the numbers from 1 to 10 using a for loop."
   ]
  },
  {
   "cell_type": "code",
   "execution_count": 10,
   "id": "92c73790-3c5d-4c02-a95d-1217cdce2194",
   "metadata": {},
   "outputs": [
    {
     "name": "stdout",
     "output_type": "stream",
     "text": [
      "1\n",
      "2\n",
      "3\n",
      "4\n",
      "5\n",
      "6\n",
      "7\n",
      "8\n",
      "9\n",
      "10\n"
     ]
    }
   ],
   "source": [
    "for i in range(1,11,1):\n",
    "    print(i)"
   ]
  },
  {
   "cell_type": "code",
   "execution_count": 12,
   "id": "2800d8a4-790d-45f1-be5c-6f50bff1ece0",
   "metadata": {},
   "outputs": [],
   "source": [
    "#2.Write a Python program to find the sum of all numbers from 1 to 100 using a for loop."
   ]
  },
  {
   "cell_type": "code",
   "execution_count": 26,
   "id": "e2502e70-d6c8-4a09-95a0-137f499efcb0",
   "metadata": {},
   "outputs": [
    {
     "name": "stdout",
     "output_type": "stream",
     "text": [
      "1 100 1\n",
      "1 100 3\n",
      "1 100 6\n",
      "1 100 10\n",
      "1 100 15\n",
      "1 100 21\n",
      "1 100 28\n",
      "1 100 36\n",
      "1 100 45\n",
      "1 100 55\n",
      "1 100 66\n",
      "1 100 78\n",
      "1 100 91\n",
      "1 100 105\n",
      "1 100 120\n",
      "1 100 136\n",
      "1 100 153\n",
      "1 100 171\n",
      "1 100 190\n",
      "1 100 210\n",
      "1 100 231\n",
      "1 100 253\n",
      "1 100 276\n",
      "1 100 300\n",
      "1 100 325\n",
      "1 100 351\n",
      "1 100 378\n",
      "1 100 406\n",
      "1 100 435\n",
      "1 100 465\n",
      "1 100 496\n",
      "1 100 528\n",
      "1 100 561\n",
      "1 100 595\n",
      "1 100 630\n",
      "1 100 666\n",
      "1 100 703\n",
      "1 100 741\n",
      "1 100 780\n",
      "1 100 820\n",
      "1 100 861\n",
      "1 100 903\n",
      "1 100 946\n",
      "1 100 990\n",
      "1 100 1035\n",
      "1 100 1081\n",
      "1 100 1128\n",
      "1 100 1176\n",
      "1 100 1225\n",
      "1 100 1275\n",
      "1 100 1326\n",
      "1 100 1378\n",
      "1 100 1431\n",
      "1 100 1485\n",
      "1 100 1540\n",
      "1 100 1596\n",
      "1 100 1653\n",
      "1 100 1711\n",
      "1 100 1770\n",
      "1 100 1830\n",
      "1 100 1891\n",
      "1 100 1953\n",
      "1 100 2016\n",
      "1 100 2080\n",
      "1 100 2145\n",
      "1 100 2211\n",
      "1 100 2278\n",
      "1 100 2346\n",
      "1 100 2415\n",
      "1 100 2485\n",
      "1 100 2556\n",
      "1 100 2628\n",
      "1 100 2701\n",
      "1 100 2775\n",
      "1 100 2850\n",
      "1 100 2926\n",
      "1 100 3003\n",
      "1 100 3081\n",
      "1 100 3160\n",
      "1 100 3240\n",
      "1 100 3321\n",
      "1 100 3403\n",
      "1 100 3486\n",
      "1 100 3570\n",
      "1 100 3655\n",
      "1 100 3741\n",
      "1 100 3828\n",
      "1 100 3916\n",
      "1 100 4005\n",
      "1 100 4095\n",
      "1 100 4186\n",
      "1 100 4278\n",
      "1 100 4371\n",
      "1 100 4465\n",
      "1 100 4560\n",
      "1 100 4656\n",
      "1 100 4753\n",
      "1 100 4851\n",
      "1 100 4950\n",
      "1 100 5050\n"
     ]
    }
   ],
   "source": [
    "totel = 0\n",
    "for i in range(1,101):\n",
    "    totel += i\n",
    "    print(1,100,totel)"
   ]
  },
  {
   "cell_type": "code",
   "execution_count": 29,
   "id": "a5f923b8-661a-456e-99ba-43adf79de672",
   "metadata": {},
   "outputs": [],
   "source": [
    "#3.Write a Python program to print the multiplication table of a given number using a for loop.\n"
   ]
  },
  {
   "cell_type": "code",
   "execution_count": 2,
   "id": "c884a41b-ede0-49be-8321-acf1cba07a41",
   "metadata": {},
   "outputs": [
    {
     "name": "stdin",
     "output_type": "stream",
     "text": [
      "enter number :  10\n"
     ]
    },
    {
     "name": "stdout",
     "output_type": "stream",
     "text": [
      "10 X 1 = 10\n",
      "10 X 2 = 20\n",
      "10 X 3 = 30\n",
      "10 X 4 = 40\n",
      "10 X 5 = 50\n",
      "10 X 6 = 60\n",
      "10 X 7 = 70\n",
      "10 X 8 = 80\n",
      "10 X 9 = 90\n",
      "10 X 10 = 100\n"
     ]
    }
   ],
   "source": [
    "number = int(input(\"enter number : \"))\n",
    "for i in range(1,11):\n",
    "    print(f\"{number} X {i} = {number*i}\")"
   ]
  },
  {
   "cell_type": "code",
   "execution_count": 33,
   "id": "1216cfa9-1d07-42dc-9f66-9d1eecee7c8a",
   "metadata": {},
   "outputs": [
    {
     "name": "stdout",
     "output_type": "stream",
     "text": [
      "5\n",
      "5\n"
     ]
    }
   ],
   "source": [
    "number = [1,2,3,4,5,6,7,8,9,10]\n",
    "even_count = 0\n",
    "odd_count = 0\n",
    "for item in number:\n",
    "    if item % 2 == 0:\n",
    "        even_count += 1\n",
    "    else:\n",
    "        odd_count += 1\n",
    "\n",
    "print(even_count)\n",
    "print(odd_count)"
   ]
  },
  {
   "cell_type": "code",
   "execution_count": null,
   "id": "c0dd85f6-3896-4d8d-916d-f48b5ea99e9d",
   "metadata": {},
   "outputs": [],
   "source": [
    "#5.Write a Python program to find the factorial of a number using a for loop."
   ]
  },
  {
   "cell_type": "code",
   "execution_count": 1,
   "id": "10137a54-f78c-4711-9410-d0edd3a188d1",
   "metadata": {},
   "outputs": [
    {
     "name": "stdin",
     "output_type": "stream",
     "text": [
      "Enter number:  5\n"
     ]
    },
    {
     "name": "stdout",
     "output_type": "stream",
     "text": [
      "5 का factorial है: 120\n"
     ]
    }
   ],
   "source": [
    "number = int(input(\"Enter number: \"))\n",
    "factorial = 1\n",
    "\n",
    "for item in range(1, number + 1):\n",
    "    factorial *= item\n",
    "\n",
    "print(f\"{number} का factorial है: {factorial}\")"
   ]
  },
  {
   "cell_type": "code",
   "execution_count": 2,
   "id": "49d27cb2-39fb-476f-98c5-b5c9f6f6f8e4",
   "metadata": {},
   "outputs": [],
   "source": [
    "#6.Write a Python program to print the Fibonacci sequence up to a specified number using a for loop."
   ]
  },
  {
   "cell_type": "code",
   "execution_count": 6,
   "id": "a3292235-759d-4ed6-adc7-1ebbd1eed6b7",
   "metadata": {},
   "outputs": [
    {
     "name": "stdin",
     "output_type": "stream",
     "text": [
      "enter fibonacci sequence number:  10\n"
     ]
    },
    {
     "name": "stdout",
     "output_type": "stream",
     "text": [
      "Fibonacci sequence:\n",
      "0 1 1 2 3 5 8 13 21 34 "
     ]
    }
   ],
   "source": [
    "number = int(input(\"enter fibonacci sequence number: \"))\n",
    "\n",
    "a = 0\n",
    "b = 1\n",
    "\n",
    "print(\"Fibonacci sequence:\")\n",
    "\n",
    "for i in range(number):\n",
    "    print(a, end=\" \")\n",
    "    c = a + b\n",
    "    a = b\n",
    "    b = c"
   ]
  },
  {
   "cell_type": "code",
   "execution_count": 7,
   "id": "1bba8f14-b9e3-4a80-80db-f05f4ed29f5b",
   "metadata": {},
   "outputs": [],
   "source": [
    "#7.Write a Python program to check if a given number is prime or not using a for loop."
   ]
  },
  {
   "cell_type": "code",
   "execution_count": 1,
   "id": "d7527500-d0b3-4fad-ab45-9cbe9aca0213",
   "metadata": {},
   "outputs": [
    {
     "name": "stdin",
     "output_type": "stream",
     "text": [
      "enter number :  2\n"
     ]
    },
    {
     "name": "stdout",
     "output_type": "stream",
     "text": [
      "this is a prime number\n"
     ]
    }
   ],
   "source": [
    "num = int(input(\"enter number : \"))\n",
    "\n",
    "if num <= 1:\n",
    "    print(\"this is not a prime number\")\n",
    "else:\n",
    "    for i in range(2, num):\n",
    "        if num % i == 0:\n",
    "            print(\"this is not a prime number.\")\n",
    "            break\n",
    "    else:\n",
    "        print(\"this is a prime number\")"
   ]
  },
  {
   "cell_type": "code",
   "execution_count": 8,
   "id": "7658b963-1b4c-4b6e-8b95-467a2b27a358",
   "metadata": {},
   "outputs": [],
   "source": [
    "#8.Write a Python program to find the largest element in a list using a for loop."
   ]
  },
  {
   "cell_type": "code",
   "execution_count": 12,
   "id": "0b30fee1-81c1-4c75-abea-9671bce04c52",
   "metadata": {},
   "outputs": [
    {
     "name": "stdout",
     "output_type": "stream",
     "text": [
      "99\n"
     ]
    }
   ],
   "source": [
    "number = [10,15,50,75,65,60,99,80]\n",
    "largest = number[0]\n",
    "for i in number:\n",
    "    if i > largest:\n",
    "        largest = i\n",
    "\n",
    "print(largest)"
   ]
  },
  {
   "cell_type": "code",
   "execution_count": null,
   "id": "750ceadc-e70c-4d1c-91f3-c040c064121a",
   "metadata": {},
   "outputs": [],
   "source": [
    "#9.Write a Python program to reverse a given string using a for loop."
   ]
  },
  {
   "cell_type": "code",
   "execution_count": 1,
   "id": "874f6fc8-2c7f-4890-904a-ad2b831aa8d3",
   "metadata": {},
   "outputs": [
    {
     "name": "stdin",
     "output_type": "stream",
     "text": [
      "enter string :  python\n"
     ]
    },
    {
     "name": "stdout",
     "output_type": "stream",
     "text": [
      "nohtyp\n"
     ]
    }
   ],
   "source": [
    "text = input(\"enter string : \")\n",
    "reversed_text = \"\"\n",
    "\n",
    "for char in text:\n",
    "    reversed_text = char + reversed_text \n",
    "\n",
    "print(reversed_text)"
   ]
  },
  {
   "cell_type": "code",
   "execution_count": 2,
   "id": "63ee0302-3f04-48cf-a27c-7bfccdda9dd0",
   "metadata": {},
   "outputs": [],
   "source": [
    "#10: Write a Python program to find the common elements between two lists using a for loop.\n",
    "#List1 = [1,2,3]\n",
    "#List2 = [4,5,1]"
   ]
  },
  {
   "cell_type": "code",
   "execution_count": 10,
   "id": "8929aecd-816d-416c-afc9-65d760c31a7e",
   "metadata": {},
   "outputs": [
    {
     "name": "stdout",
     "output_type": "stream",
     "text": [
      "[1]\n"
     ]
    }
   ],
   "source": [
    "list1 = [1,2,3]\n",
    "list2 = [4,5,1]\n",
    "commen = []\n",
    "\n",
    "for item in list1:\n",
    "    if item in list2:\n",
    "        commen.append(item)\n",
    "        print(commen)"
   ]
  },
  {
   "cell_type": "code",
   "execution_count": null,
   "id": "de883779-16c0-4b65-93ea-47992090acdb",
   "metadata": {},
   "outputs": [],
   "source": []
  }
 ],
 "metadata": {
  "kernelspec": {
   "display_name": "Python [conda env:base] *",
   "language": "python",
   "name": "conda-base-py"
  },
  "language_info": {
   "codemirror_mode": {
    "name": "ipython",
    "version": 3
   },
   "file_extension": ".py",
   "mimetype": "text/x-python",
   "name": "python",
   "nbconvert_exporter": "python",
   "pygments_lexer": "ipython3",
   "version": "3.13.5"
  }
 },
 "nbformat": 4,
 "nbformat_minor": 5
}
